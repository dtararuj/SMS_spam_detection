{
 "cells": [
  {
   "cell_type": "code",
   "execution_count": 687,
   "id": "da134eae",
   "metadata": {},
   "outputs": [],
   "source": [
    "import pandas as pd\n",
    "import numpy as np\n",
    "import matplotlib.pyplot as plt\n",
    "from sklearn.preprocessing import LabelEncoder, MinMaxScaler, StandardScaler, OneHotEncoder\n",
    "from sklearn.model_selection import train_test_split\n",
    "\n",
    "from keras.preprocessing.text import text_to_word_sequence, Tokenizer\n",
    "from tensorflow.keras.preprocessing import sequence\n",
    "from tensorflow.keras import layers, Input, Model, models\n",
    "from tensorflow.keras.callbacks import EarlyStopping\n",
    "from tensorflow.random import set_seed\n",
    "\n",
    "import nltk\n",
    "from nltk.corpus import stopwords\n",
    "from nltk.tokenize import word_tokenize\n",
    "\n",
    "from sklearn import svm\n",
    "from sklearn.metrics import *\n",
    "from sklearn.pipeline import make_pipeline\n",
    "from sklearn.neighbors import KNeighborsClassifier\n",
    "from sklearn.ensemble import RandomForestClassifier\n"
   ]
  },
  {
   "cell_type": "markdown",
   "id": "c43110f1",
   "metadata": {},
   "source": [
    "1. Data import"
   ]
  },
  {
   "cell_type": "code",
   "execution_count": 2,
   "id": "9fa0571b",
   "metadata": {},
   "outputs": [],
   "source": [
    "data = pd.read_csv('data/spam.csv')"
   ]
  },
  {
   "cell_type": "code",
   "execution_count": 3,
   "id": "f8f73256",
   "metadata": {},
   "outputs": [
    {
     "data": {
      "text/html": [
       "<div>\n",
       "<style scoped>\n",
       "    .dataframe tbody tr th:only-of-type {\n",
       "        vertical-align: middle;\n",
       "    }\n",
       "\n",
       "    .dataframe tbody tr th {\n",
       "        vertical-align: top;\n",
       "    }\n",
       "\n",
       "    .dataframe thead th {\n",
       "        text-align: right;\n",
       "    }\n",
       "</style>\n",
       "<table border=\"1\" class=\"dataframe\">\n",
       "  <thead>\n",
       "    <tr style=\"text-align: right;\">\n",
       "      <th></th>\n",
       "      <th>v1</th>\n",
       "      <th>v2</th>\n",
       "      <th>Unnamed: 2</th>\n",
       "      <th>Unnamed: 3</th>\n",
       "      <th>Unnamed: 4</th>\n",
       "    </tr>\n",
       "  </thead>\n",
       "  <tbody>\n",
       "    <tr>\n",
       "      <th>0</th>\n",
       "      <td>ham</td>\n",
       "      <td>Go until jurong point, crazy.. Available only ...</td>\n",
       "      <td>NaN</td>\n",
       "      <td>NaN</td>\n",
       "      <td>NaN</td>\n",
       "    </tr>\n",
       "    <tr>\n",
       "      <th>1</th>\n",
       "      <td>ham</td>\n",
       "      <td>Ok lar... Joking wif u oni...</td>\n",
       "      <td>NaN</td>\n",
       "      <td>NaN</td>\n",
       "      <td>NaN</td>\n",
       "    </tr>\n",
       "    <tr>\n",
       "      <th>2</th>\n",
       "      <td>spam</td>\n",
       "      <td>Free entry in 2 a wkly comp to win FA Cup fina...</td>\n",
       "      <td>NaN</td>\n",
       "      <td>NaN</td>\n",
       "      <td>NaN</td>\n",
       "    </tr>\n",
       "    <tr>\n",
       "      <th>3</th>\n",
       "      <td>ham</td>\n",
       "      <td>U dun say so early hor... U c already then say...</td>\n",
       "      <td>NaN</td>\n",
       "      <td>NaN</td>\n",
       "      <td>NaN</td>\n",
       "    </tr>\n",
       "    <tr>\n",
       "      <th>4</th>\n",
       "      <td>ham</td>\n",
       "      <td>Nah I don't think he goes to usf, he lives aro...</td>\n",
       "      <td>NaN</td>\n",
       "      <td>NaN</td>\n",
       "      <td>NaN</td>\n",
       "    </tr>\n",
       "  </tbody>\n",
       "</table>\n",
       "</div>"
      ],
      "text/plain": [
       "     v1                                                 v2 Unnamed: 2  \\\n",
       "0   ham  Go until jurong point, crazy.. Available only ...        NaN   \n",
       "1   ham                      Ok lar... Joking wif u oni...        NaN   \n",
       "2  spam  Free entry in 2 a wkly comp to win FA Cup fina...        NaN   \n",
       "3   ham  U dun say so early hor... U c already then say...        NaN   \n",
       "4   ham  Nah I don't think he goes to usf, he lives aro...        NaN   \n",
       "\n",
       "  Unnamed: 3 Unnamed: 4  \n",
       "0        NaN        NaN  \n",
       "1        NaN        NaN  \n",
       "2        NaN        NaN  \n",
       "3        NaN        NaN  \n",
       "4        NaN        NaN  "
      ]
     },
     "execution_count": 3,
     "metadata": {},
     "output_type": "execute_result"
    }
   ],
   "source": [
    "data.head()"
   ]
  },
  {
   "cell_type": "code",
   "execution_count": 7,
   "id": "dcf01096",
   "metadata": {},
   "outputs": [],
   "source": [
    "data = data.iloc[:,:2]"
   ]
  },
  {
   "cell_type": "code",
   "execution_count": 8,
   "id": "282b94fd",
   "metadata": {},
   "outputs": [
    {
     "name": "stdout",
     "output_type": "stream",
     "text": [
      "<class 'pandas.core.frame.DataFrame'>\n",
      "RangeIndex: 5572 entries, 0 to 5571\n",
      "Data columns (total 2 columns):\n",
      " #   Column  Non-Null Count  Dtype \n",
      "---  ------  --------------  ----- \n",
      " 0   v1      5572 non-null   object\n",
      " 1   v2      5572 non-null   object\n",
      "dtypes: object(2)\n",
      "memory usage: 87.2+ KB\n"
     ]
    }
   ],
   "source": [
    "data.info()"
   ]
  },
  {
   "cell_type": "code",
   "execution_count": 16,
   "id": "d9cb8bc6",
   "metadata": {},
   "outputs": [
    {
     "data": {
      "text/plain": [
       "ham     0.865937\n",
       "spam    0.134063\n",
       "Name: v1, dtype: float64"
      ]
     },
     "execution_count": 16,
     "metadata": {},
     "output_type": "execute_result"
    }
   ],
   "source": [
    "data['v1'].value_counts()/data.shape[0]"
   ]
  },
  {
   "cell_type": "code",
   "execution_count": 17,
   "id": "240e72c6",
   "metadata": {},
   "outputs": [
    {
     "data": {
      "text/plain": [
       "ham     4825\n",
       "spam     747\n",
       "Name: v1, dtype: int64"
      ]
     },
     "execution_count": 17,
     "metadata": {},
     "output_type": "execute_result"
    }
   ],
   "source": [
    "data['v1'].value_counts()"
   ]
  },
  {
   "cell_type": "markdown",
   "id": "c86ec1ee",
   "metadata": {},
   "source": [
    "How we can see our data set is unbalanced, 86.5% to 13.5% percent, in favor of not spam."
   ]
  },
  {
   "cell_type": "markdown",
   "id": "5800556d",
   "metadata": {},
   "source": [
    "2. Data cleaning and preprocessing"
   ]
  },
  {
   "cell_type": "code",
   "execution_count": 60,
   "id": "d37dbcee",
   "metadata": {},
   "outputs": [
    {
     "data": {
      "text/plain": [
       "(5572, 1)"
      ]
     },
     "execution_count": 60,
     "metadata": {},
     "output_type": "execute_result"
    }
   ],
   "source": [
    "# let transform our labels to binary values\n",
    "Y = LabelEncoder().fit_transform(data['v1']).reshape(-1,1)\n",
    "Y.shape"
   ]
  },
  {
   "cell_type": "code",
   "execution_count": 52,
   "id": "19515b38",
   "metadata": {},
   "outputs": [
    {
     "data": {
      "text/plain": [
       "(5572,)"
      ]
     },
     "execution_count": 52,
     "metadata": {},
     "output_type": "execute_result"
    }
   ],
   "source": [
    "X = data['v2']\n",
    "X.shape"
   ]
  },
  {
   "cell_type": "code",
   "execution_count": 415,
   "id": "5e5d3f41",
   "metadata": {},
   "outputs": [
    {
     "data": {
      "text/plain": [
       "8916"
      ]
     },
     "execution_count": 415,
     "metadata": {},
     "output_type": "execute_result"
    }
   ],
   "source": [
    "# Let check how many words we have in our dataset\n",
    "\n",
    "# tokenize the document\n",
    "words = []\n",
    "\n",
    "for i in range(0, X.shape[0]):\n",
    "    result = text_to_word_sequence(X[i])\n",
    "    words.extend(result)\n",
    "    \n",
    "len(set(words))"
   ]
  },
  {
   "cell_type": "code",
   "execution_count": 156,
   "id": "9bf52906",
   "metadata": {},
   "outputs": [
    {
     "data": {
      "text/plain": [
       "i      2351\n",
       "to     2242\n",
       "you    2150\n",
       "a      1433\n",
       "the    1328\n",
       "u      1172\n",
       "and     979\n",
       "in      898\n",
       "is      889\n",
       "me      802\n",
       "dtype: int64"
      ]
     },
     "execution_count": 156,
     "metadata": {},
     "output_type": "execute_result"
    }
   ],
   "source": [
    "# Let see top 10 words, whether there are some useless words or single characters\n",
    "pd.DataFrame(words).value_counts().head(10)"
   ]
  },
  {
   "cell_type": "markdown",
   "id": "e5564775",
   "metadata": {},
   "source": [
    "How we can see, many of our popular words are stopwords, let remove them."
   ]
  },
  {
   "cell_type": "code",
   "execution_count": 309,
   "id": "b12afc0f",
   "metadata": {
    "scrolled": true
   },
   "outputs": [
    {
     "name": "stdout",
     "output_type": "stream",
     "text": [
      "['i', 'me', 'my', 'myself', 'we', 'our', 'ours', 'ourselves', 'you', \"you're\", \"you've\", \"you'll\", \"you'd\", 'your', 'yours', 'yourself', 'yourselves', 'he', 'him', 'his', 'himself', 'she', \"she's\", 'her', 'hers', 'herself', 'it', \"it's\", 'its', 'itself', 'they', 'them', 'their', 'theirs', 'themselves', 'what', 'which', 'who', 'whom', 'this', 'that', \"that'll\", 'these', 'those', 'am', 'is', 'are', 'was', 'were', 'be', 'been', 'being', 'have', 'has', 'had', 'having', 'do', 'does', 'did', 'doing', 'a', 'an', 'the', 'and', 'but', 'if', 'or', 'because', 'as', 'until', 'while', 'of', 'at', 'by', 'for', 'with', 'about', 'against', 'between', 'into', 'through', 'during', 'before', 'after', 'above', 'below', 'to', 'from', 'up', 'down', 'in', 'out', 'on', 'off', 'over', 'under', 'again', 'further', 'then', 'once', 'here', 'there', 'when', 'where', 'why', 'how', 'all', 'any', 'both', 'each', 'few', 'more', 'most', 'other', 'some', 'such', 'no', 'nor', 'not', 'only', 'own', 'same', 'so', 'than', 'too', 'very', 's', 't', 'can', 'will', 'just', 'don', \"don't\", 'should', \"should've\", 'now', 'd', 'll', 'm', 'o', 're', 've', 'y', 'ain', 'aren', \"aren't\", 'couldn', \"couldn't\", 'didn', \"didn't\", 'doesn', \"doesn't\", 'hadn', \"hadn't\", 'hasn', \"hasn't\", 'haven', \"haven't\", 'isn', \"isn't\", 'ma', 'mightn', \"mightn't\", 'mustn', \"mustn't\", 'needn', \"needn't\", 'shan', \"shan't\", 'shouldn', \"shouldn't\", 'wasn', \"wasn't\", 'weren', \"weren't\", 'won', \"won't\", 'wouldn', \"wouldn't\"]\n"
     ]
    }
   ],
   "source": [
    "# Our stopwords which we'll remove are presented below\n",
    "#nltk.download('stopwords')\n",
    "print(stopwords.words('english'))"
   ]
  },
  {
   "cell_type": "code",
   "execution_count": 413,
   "id": "1a3ee731",
   "metadata": {},
   "outputs": [
    {
     "name": "stdout",
     "output_type": "stream",
     "text": [
      "                                                     v2  \\\n",
      "0     Go until jurong point, crazy.. Available only ...   \n",
      "1                         Ok lar... Joking wif u oni...   \n",
      "2     Free entry in 2 a wkly comp to win FA Cup fina...   \n",
      "3     U dun say so early hor... U c already then say...   \n",
      "4     Nah I don't think he goes to usf, he lives aro...   \n",
      "...                                                 ...   \n",
      "5567  This is the 2nd time we have tried 2 contact u...   \n",
      "5568              Will �_ b going to esplanade fr home?   \n",
      "5569  Pity, * was in mood for that. So...any other s...   \n",
      "5570  The guy did some bitching but I acted like i'd...   \n",
      "5571                         Rofl. Its true to its name   \n",
      "\n",
      "                                                  clean  \n",
      "0     Go jurong point, crazy.. Available bugis n gre...  \n",
      "1                         Ok lar... Joking wif u oni...  \n",
      "2     Free entry 2 wkly comp win FA Cup final tkts 2...  \n",
      "3             U dun say early hor... U c already say...  \n",
      "4               Nah think goes usf, lives around though  \n",
      "...                                                 ...  \n",
      "5567  2nd time tried 2 contact u. U �750 Pound prize...  \n",
      "5568                      �_ b going esplanade fr home?  \n",
      "5569           Pity, * mood that. So...any suggestions?  \n",
      "5570  guy bitching acted like i'd interested buying ...  \n",
      "5571                                    Rofl. true name  \n",
      "\n",
      "[5572 rows x 2 columns]\n"
     ]
    }
   ],
   "source": [
    "# Exclude stopwords with Python's list comprehension and pandas.DataFrame.apply.\n",
    "df = pd.DataFrame(X)\n",
    "\n",
    "df['clean'] = df['v2'].apply(lambda x: ' '.join([word for word in x.split() if not word.lower() in (stop_words)]))\n",
    "print(df)"
   ]
  },
  {
   "cell_type": "code",
   "execution_count": 303,
   "id": "1f79484e",
   "metadata": {},
   "outputs": [],
   "source": [
    "# # let remove stopwords\n",
    "# stop_words = set(stopwords.words('english'))\n",
    "\n",
    "# # tokenize our text\n",
    "# X_clean = []\n",
    "\n",
    "# for i in range(X.shape[0]):\n",
    "#     #tokenize each sentences\n",
    "#     word_tokens = text_to_word_sequence(X[i])\n",
    "#     filtered_sentence = [w for w in word_tokens if not w.lower() in stop_words] # filter stop words from orignal sentences\n",
    "#     X_clean.append(filtered_sentence)"
   ]
  },
  {
   "cell_type": "code",
   "execution_count": 418,
   "id": "a59715b5",
   "metadata": {
    "scrolled": true
   },
   "outputs": [
    {
     "data": {
      "text/plain": [
       "u       1172\n",
       "call     591\n",
       "2        515\n",
       "i'm      394\n",
       "get      391\n",
       "ur       385\n",
       "gt       318\n",
       "lt       316\n",
       "4        316\n",
       "ok       287\n",
       "free     284\n",
       "go       280\n",
       "know     261\n",
       "now      255\n",
       "good     245\n",
       "like     245\n",
       "got      239\n",
       "you      233\n",
       "come     229\n",
       "time     220\n",
       "dtype: int64"
      ]
     },
     "execution_count": 418,
     "metadata": {},
     "output_type": "execute_result"
    }
   ],
   "source": [
    "# Let check again if there are still any useless words not included in stopwords\n",
    "\n",
    "# tokenize the document\n",
    "words = []\n",
    "df = df['clean']\n",
    "\n",
    "for i in range(0, df.shape[0]):\n",
    "    result = text_to_word_sequence(df[i])\n",
    "    words.extend(result)\n",
    "    \n",
    "len(set(words))\n",
    "\n",
    "    \n",
    "pd.DataFrame(words).value_counts().head(20)\n",
    "#there are still some stopwords"
   ]
  },
  {
   "cell_type": "code",
   "execution_count": 421,
   "id": "1f225ee5",
   "metadata": {},
   "outputs": [
    {
     "name": "stdout",
     "output_type": "stream",
     "text": [
      "                                                  clean  \\\n",
      "0     Go jurong point, crazy.. Available bugis n gre...   \n",
      "1                         Ok lar... Joking wif u oni...   \n",
      "2     Free entry 2 wkly comp win FA Cup final tkts 2...   \n",
      "3             U dun say early hor... U c already say...   \n",
      "4               Nah think goes usf, lives around though   \n",
      "...                                                 ...   \n",
      "5567  2nd time tried 2 contact u. U �750 Pound prize...   \n",
      "5568                      �_ b going esplanade fr home?   \n",
      "5569           Pity, * mood that. So...any suggestions?   \n",
      "5570  guy bitching acted like i'd interested buying ...   \n",
      "5571                                    Rofl. true name   \n",
      "\n",
      "                                                clean_1  \n",
      "0     Go jurong point, crazy.. Available bugis great...  \n",
      "1                           Ok lar... Joking wif oni...  \n",
      "2     Free entry wkly comp win FA Cup final tkts 21s...  \n",
      "3                 dun say early hor... c already say...  \n",
      "4               Nah think goes usf, lives around though  \n",
      "...                                                 ...  \n",
      "5567  2nd time tried contact u. �750 Pound prize. cl...  \n",
      "5568                      �_ b going esplanade fr home?  \n",
      "5569           Pity, * mood that. So...any suggestions?  \n",
      "5570  guy bitching acted like i'd interested buying ...  \n",
      "5571                                    Rofl. true name  \n",
      "\n",
      "[5572 rows x 2 columns]\n"
     ]
    }
   ],
   "source": [
    "# let remove another stopwords, not defined before\n",
    "\n",
    "more_stopwords = set(['u','4','2',\"i'm\",\"i'll\",'r','ur','n'])\n",
    "updated_step_words = stop_words | more_stopwords\n",
    "\n",
    "df1 = pd.DataFrame(df)\n",
    "\n",
    "df1['clean_1'] = df1['clean'].apply(lambda x: ' '.join([word for word in x.split() if not word.lower() in (updated_step_words)]))\n",
    "print(df1)"
   ]
  },
  {
   "cell_type": "code",
   "execution_count": 543,
   "id": "5b04c499",
   "metadata": {},
   "outputs": [],
   "source": [
    "# Let split our dataset on train and test\n",
    "\n",
    "X_train, X_test,Y_train, Y_test = train_test_split(df1['clean_1'],Y, test_size= 0.2)"
   ]
  },
  {
   "cell_type": "markdown",
   "id": "79f50663",
   "metadata": {},
   "source": [
    "3. Text tokenize"
   ]
  },
  {
   "cell_type": "code",
   "execution_count": 544,
   "id": "24c9b49a",
   "metadata": {},
   "outputs": [
    {
     "data": {
      "text/plain": [
       "76"
      ]
     },
     "execution_count": 544,
     "metadata": {},
     "output_type": "execute_result"
    }
   ],
   "source": [
    "# let check the longest sms in our dataset\n",
    "maxims = []\n",
    "for i,j in enumerate(X_clean):\n",
    "    maxims.append(len(X_clean[i]))\n",
    "    \n",
    "np.max(maxims)"
   ]
  },
  {
   "cell_type": "code",
   "execution_count": 545,
   "id": "cf378bab",
   "metadata": {},
   "outputs": [],
   "source": [
    "#let create tokenizer\n",
    "max_words = 800\n",
    "max_len = 76\n",
    "\n",
    "tok = Tokenizer(max_words,lower= True)\n",
    "tok.fit_on_texts(X_train) #token trainging on X_train\n",
    "\n",
    "sequences = tok.texts_to_sequences(X_train) #conversion from text to vectors\n",
    "sequences_matrix = sequence.pad_sequences(sequences,maxlen=max_len) #matrix with padding has been created\n",
    "\n",
    "test_sequences = tok.texts_to_sequences(X_test)\n",
    "test_sequences_matrix = sequence.pad_sequences(test_sequences,maxlen=max_len)"
   ]
  },
  {
   "cell_type": "code",
   "execution_count": 528,
   "id": "197a790d",
   "metadata": {},
   "outputs": [],
   "source": [
    "#let check records where after tokenizing we have only zeros\n",
    "test_0 = pd.DataFrame({\"X\" : test_sequences_matrix.argmax(axis=1)})\n",
    "test_0_filtred = test_0[test_0[\"X\"]<1]\n",
    "\n",
    "test_to_remove = test_0_filtred.index\n",
    "\n",
    "train_0 = pd.DataFrame({\"X\" : sequences_matrix.argmax(axis=1)})\n",
    "train_0_filtred = train_0[train_0[\"X\"]<1]\n",
    "\n",
    "train_to_remove = train_0_filtred.index\n"
   ]
  },
  {
   "cell_type": "code",
   "execution_count": 547,
   "id": "35e4298a",
   "metadata": {},
   "outputs": [],
   "source": [
    "# let remove those zeros tokens from our dataset \n",
    "\n",
    "#X_train \n",
    "sequences_matrix = np.delete(sequences_matrix, train_to_remove,axis = 0 )\n",
    "\n",
    "#X_test\n",
    "test_sequences_matrix =  np.delete(test_sequences_matrix, test_to_remove,axis = 0 )\n",
    "\n",
    "#Y_train\n",
    "Y_train = np.delete(Y_train, train_to_remove, axis = 0)\n",
    "\n",
    "#Y_test\n",
    "Y_test = np.delete(Y_test, test_to_remove, axis = 0)\n"
   ]
  },
  {
   "cell_type": "markdown",
   "id": "91c2fe4a",
   "metadata": {},
   "source": [
    "4. First models "
   ]
  },
  {
   "cell_type": "code",
   "execution_count": 582,
   "id": "d43c8d4e",
   "metadata": {},
   "outputs": [],
   "source": [
    "# to make reproduced results.\n",
    "np.random.seed(500)"
   ]
  },
  {
   "cell_type": "code",
   "execution_count": null,
   "id": "ee531053",
   "metadata": {},
   "outputs": [],
   "source": [
    "#random forrest, knn, svm, rnn"
   ]
  },
  {
   "cell_type": "markdown",
   "id": "9593e83e",
   "metadata": {},
   "source": [
    "a) SVM"
   ]
  },
  {
   "cell_type": "code",
   "execution_count": 584,
   "id": "16e7eab1",
   "metadata": {},
   "outputs": [
    {
     "name": "stdout",
     "output_type": "stream",
     "text": [
      "              precision    recall  f1-score   support\n",
      "\n",
      "           0       0.91      0.98      0.95       948\n",
      "           1       0.75      0.37      0.50       139\n",
      "\n",
      "    accuracy                           0.90      1087\n",
      "   macro avg       0.83      0.68      0.72      1087\n",
      "weighted avg       0.89      0.90      0.89      1087\n",
      "\n"
     ]
    }
   ],
   "source": [
    "#simple model as benchmark\n",
    "\n",
    "model1_svm = make_pipeline(MinMaxScaler(),svm.SVC())\n",
    "model1_svm.fit(sequences_matrix, Y_train.flatten())\n",
    "\n",
    "y_pred1_svm = model1_svm.predict(test_sequences_matrix)\n",
    "\n",
    "# evaluation\n",
    "print(classification_report(Y_test.flatten(),y_pred1_svm))"
   ]
  },
  {
   "cell_type": "markdown",
   "id": "cc623476",
   "metadata": {},
   "source": [
    "As we can see, model predict not-spam class very well, but reach only 50% f1_score for spam class. \n",
    "We are going to improve this model a little bit, by changing default parameters."
   ]
  },
  {
   "cell_type": "code",
   "execution_count": 585,
   "id": "e670af4b",
   "metadata": {},
   "outputs": [
    {
     "name": "stdout",
     "output_type": "stream",
     "text": [
      "              precision    recall  f1-score   support\n",
      "\n",
      "           0       0.91      0.98      0.95       948\n",
      "           1       0.77      0.36      0.49       139\n",
      "\n",
      "    accuracy                           0.90      1087\n",
      "   macro avg       0.84      0.67      0.72      1087\n",
      "weighted avg       0.89      0.90      0.89      1087\n",
      "\n"
     ]
    }
   ],
   "source": [
    "# another simple model\n",
    "\n",
    "model2_svm = make_pipeline(MinMaxScaler(),svm.SVC(kernel = 'poly'))\n",
    "model2_svm.fit(sequences_matrix, Y_train.flatten())\n",
    "\n",
    "y_pred2_svm = model2_svm.predict(test_sequences_matrix)\n",
    "\n",
    "\n",
    "# evaluation\n",
    "print(classification_report(Y_test.flatten(),y_pred2_svm))"
   ]
  },
  {
   "cell_type": "code",
   "execution_count": 587,
   "id": "32de891e",
   "metadata": {},
   "outputs": [
    {
     "name": "stdout",
     "output_type": "stream",
     "text": [
      "              precision    recall  f1-score   support\n",
      "\n",
      "           0       0.91      0.97      0.94       948\n",
      "           1       0.62      0.32      0.42       139\n",
      "\n",
      "    accuracy                           0.89      1087\n",
      "   macro avg       0.76      0.65      0.68      1087\n",
      "weighted avg       0.87      0.89      0.87      1087\n",
      "\n"
     ]
    }
   ],
   "source": [
    "# another simple model\n",
    "\n",
    "model3_svm = make_pipeline(MinMaxScaler(),svm.SVC(kernel = 'linear'))\n",
    "model3_svm.fit(sequences_matrix, Y_train.flatten())\n",
    "\n",
    "y_pred3_svm = model3_svm.predict(test_sequences_matrix)\n",
    "\n",
    "\n",
    "# evaluation\n",
    "print(classification_report(Y_test.flatten(),y_pred3_svm))"
   ]
  },
  {
   "cell_type": "markdown",
   "id": "4160f6a8",
   "metadata": {},
   "source": [
    "Three basic models with default parameters, only with different kernel don't reach sufficient results."
   ]
  },
  {
   "cell_type": "markdown",
   "id": "04185041",
   "metadata": {},
   "source": [
    "b) KNN"
   ]
  },
  {
   "cell_type": "code",
   "execution_count": 603,
   "id": "095597b9",
   "metadata": {},
   "outputs": [
    {
     "name": "stdout",
     "output_type": "stream",
     "text": [
      "              precision    recall  f1-score   support\n",
      "\n",
      "           0       0.91      0.96      0.94       948\n",
      "           1       0.60      0.38      0.47       139\n",
      "\n",
      "    accuracy                           0.89      1087\n",
      "   macro avg       0.76      0.67      0.70      1087\n",
      "weighted avg       0.87      0.89      0.88      1087\n",
      "\n"
     ]
    }
   ],
   "source": [
    "#simple model as benchmark\n",
    "\n",
    "model1_knn = make_pipeline(MinMaxScaler(),KNeighborsClassifier())\n",
    "model1_knn.fit(sequences_matrix, Y_train.flatten())\n",
    "\n",
    "y_pred1_knn = model1_knn.predict(test_sequences_matrix)\n",
    "\n",
    "# evaluation\n",
    "print(classification_report(Y_test.flatten(),y_pred1_knn))"
   ]
  },
  {
   "cell_type": "code",
   "execution_count": 607,
   "id": "7d8ac73b",
   "metadata": {},
   "outputs": [
    {
     "name": "stdout",
     "output_type": "stream",
     "text": [
      "              precision    recall  f1-score   support\n",
      "\n",
      "           0       0.93      0.97      0.95       948\n",
      "           1       0.74      0.53      0.62       139\n",
      "\n",
      "    accuracy                           0.92      1087\n",
      "   macro avg       0.84      0.75      0.79      1087\n",
      "weighted avg       0.91      0.92      0.91      1087\n",
      "\n"
     ]
    }
   ],
   "source": [
    "#simple model as benchmark\n",
    "\n",
    "model2_knn = make_pipeline(MinMaxScaler(),KNeighborsClassifier(weights = 'distance'))\n",
    "model2_knn.fit(sequences_matrix, Y_train.flatten())\n",
    "\n",
    "y_pred2_knn = model2_knn.predict(test_sequences_matrix)\n",
    "\n",
    "# evaluation\n",
    "print(classification_report(Y_test.flatten(),y_pred2_knn))"
   ]
  },
  {
   "cell_type": "code",
   "execution_count": 608,
   "id": "3bbbd0a9",
   "metadata": {},
   "outputs": [
    {
     "name": "stdout",
     "output_type": "stream",
     "text": [
      "              precision    recall  f1-score   support\n",
      "\n",
      "           0       0.94      0.97      0.95       948\n",
      "           1       0.75      0.57      0.64       139\n",
      "\n",
      "    accuracy                           0.92      1087\n",
      "   macro avg       0.84      0.77      0.80      1087\n",
      "weighted avg       0.91      0.92      0.92      1087\n",
      "\n"
     ]
    }
   ],
   "source": [
    "#simple model as benchmark\n",
    "\n",
    "model2_knn = make_pipeline(StandardScaler(),KNeighborsClassifier(weights = 'distance'))\n",
    "model2_knn.fit(sequences_matrix, Y_train.flatten())\n",
    "\n",
    "y_pred2_knn = model2_knn.predict(test_sequences_matrix)\n",
    "\n",
    "# evaluation\n",
    "print(classification_report(Y_test.flatten(),y_pred2_knn))"
   ]
  },
  {
   "cell_type": "markdown",
   "id": "1302c071",
   "metadata": {},
   "source": [
    "How we can see first, basic KNN model didn't improve our previous results, but with only one change in weight parameters, we beat out previous best result. \n",
    "Finally with StandardScaler instead of MinMaxScaller our results was a little bit better.  \n",
    "Let try with more another option."
   ]
  },
  {
   "cell_type": "markdown",
   "id": "42c21d1d",
   "metadata": {},
   "source": [
    "c) RandomForrest"
   ]
  },
  {
   "cell_type": "code",
   "execution_count": 618,
   "id": "d1642051",
   "metadata": {},
   "outputs": [
    {
     "name": "stdout",
     "output_type": "stream",
     "text": [
      "              precision    recall  f1-score   support\n",
      "\n",
      "           0       0.94      0.99      0.97       948\n",
      "           1       0.89      0.59      0.71       139\n",
      "\n",
      "    accuracy                           0.94      1087\n",
      "   macro avg       0.92      0.79      0.84      1087\n",
      "weighted avg       0.94      0.94      0.93      1087\n",
      "\n"
     ]
    }
   ],
   "source": [
    "#simple model as benchmark\n",
    "\n",
    "model1_rf = RandomForestClassifier(random_state=1)\n",
    "model1_rf.fit(sequences_matrix, Y_train.flatten())\n",
    "\n",
    "y_pred1_rf = model1_rf.predict(test_sequences_matrix)\n",
    "\n",
    "# evaluation\n",
    "print(classification_report(Y_test.flatten(),y_pred1_rf))"
   ]
  },
  {
   "cell_type": "markdown",
   "id": "899e63f0",
   "metadata": {},
   "source": [
    "After first try, in default model we reached the highest f1 score on this dataset.\n",
    "Let check more sofisticated model form keras library."
   ]
  },
  {
   "cell_type": "markdown",
   "id": "21bad0dc",
   "metadata": {},
   "source": [
    "d) simple neural network"
   ]
  },
  {
   "cell_type": "code",
   "execution_count": 646,
   "id": "4e6654ab",
   "metadata": {},
   "outputs": [],
   "source": [
    "# first we have to prepare Y_train and Y_test to correct shape\n",
    "Y_train_encoded = OneHotEncoder(sparse= False).fit_transform(Y_train)\n",
    "Y_test_encoded = OneHotEncoder(sparse= False).fit_transform(Y_test)"
   ]
  },
  {
   "cell_type": "code",
   "execution_count": 688,
   "id": "5c030719",
   "metadata": {},
   "outputs": [],
   "source": [
    "#set result repeatable\n",
    "\n",
    "set_seed(2)"
   ]
  },
  {
   "cell_type": "code",
   "execution_count": 650,
   "id": "fd9c64a8",
   "metadata": {},
   "outputs": [
    {
     "name": "stdout",
     "output_type": "stream",
     "text": [
      "Epoch 1/20\n",
      "123/123 [==============================] - 21s 117ms/step - loss: 2.0635 - auc: 0.8618 - val_loss: 2.0742 - val_auc: 0.8610\n",
      "Epoch 2/20\n",
      "123/123 [==============================] - 13s 103ms/step - loss: 2.0564 - auc: 0.8632 - val_loss: 2.0712 - val_auc: 0.8610\n",
      "Epoch 3/20\n",
      "123/123 [==============================] - 14s 114ms/step - loss: 2.0556 - auc: 0.8633 - val_loss: 2.0709 - val_auc: 0.8610\n",
      "Epoch 4/20\n",
      "123/123 [==============================] - 13s 104ms/step - loss: 2.0555 - auc: 0.8652 - val_loss: 2.0708 - val_auc: 0.8650\n",
      "Epoch 5/20\n",
      "123/123 [==============================] - 14s 111ms/step - loss: 2.0554 - auc: 0.8660 - val_loss: 2.0707 - val_auc: 0.8650\n",
      "Epoch 6/20\n",
      "123/123 [==============================] - 11s 94ms/step - loss: 2.0554 - auc: 0.8660 - val_loss: 2.0707 - val_auc: 0.8650\n",
      "Epoch 7/20\n",
      "123/123 [==============================] - 15s 124ms/step - loss: 2.0554 - auc: 0.8660 - val_loss: 2.0707 - val_auc: 0.8650- auc: - ETA: 0s - loss: 2.0639 - auc: 0\n",
      "Epoch 8/20\n",
      "123/123 [==============================] - 11s 93ms/step - loss: 2.0554 - auc: 0.8660 - val_loss: 2.0707 - val_auc: 0.8650\n",
      "Epoch 9/20\n",
      "123/123 [==============================] - 13s 104ms/step - loss: 2.0554 - auc: 0.8660 - val_loss: 2.0707 - val_auc: 0.8650- loss: 1.9651 - au\n",
      "Epoch 10/20\n",
      "123/123 [==============================] - 12s 96ms/step - loss: 2.0554 - auc: 0.8660 - val_loss: 2.0707 - val_auc: 0.8650\n",
      "Epoch 11/20\n",
      "123/123 [==============================] - 11s 89ms/step - loss: 2.0554 - auc: 0.8660 - val_loss: 2.0707 - val_auc: 0.8650 2.2312 - auc: \n",
      "Epoch 12/20\n",
      "123/123 [==============================] - 12s 101ms/step - loss: 2.0554 - auc: 0.8660 - val_loss: 2.0707 - val_auc: 0.8650\n",
      "Epoch 13/20\n",
      "123/123 [==============================] - 8s 65ms/step - loss: 2.0554 - auc: 0.8660 - val_loss: 2.0707 - val_auc: 0.8650\n",
      "Epoch 14/20\n",
      "123/123 [==============================] - 10s 85ms/step - loss: 2.0554 - auc: 0.8660 - val_loss: 2.0707 - val_auc: 0.8650\n",
      "Epoch 15/20\n",
      "123/123 [==============================] - 9s 75ms/step - loss: 2.0554 - auc: 0.8660 - val_loss: 2.0707 - val_auc: 0.8650\n",
      "Epoch 16/20\n",
      "123/123 [==============================] - 10s 84ms/step - loss: 2.0554 - auc: 0.8660 - val_loss: 2.0707 - val_auc: 0.8650 - loss: 2.0495 - auc: 0.86\n",
      "Epoch 17/20\n",
      "123/123 [==============================] - 9s 76ms/step - loss: 2.0554 - auc: 0.8660 - val_loss: 2.0707 - val_auc: 0.8650ss: 1.9575 - auc: 0.8\n",
      "Epoch 18/20\n",
      "123/123 [==============================] - 8s 67ms/step - loss: 2.0554 - auc: 0.8660 - val_loss: 2.0707 - val_auc: 0.8650\n",
      "Epoch 19/20\n",
      "123/123 [==============================] - 12s 99ms/step - loss: 2.0554 - auc: 0.8660 - val_loss: 2.0707 - val_auc: 0.8650\n",
      "Epoch 20/20\n",
      "123/123 [==============================] - 9s 78ms/step - loss: 2.0554 - auc: 0.8660 - val_loss: 2.0707 - val_auc: 0.8650\n",
      "              precision    recall  f1-score   support\n",
      "\n",
      "           0       0.94      0.99      0.96       948\n",
      "           1       0.88      0.58      0.70       139\n",
      "\n",
      "    accuracy                           0.94      1087\n",
      "   macro avg       0.91      0.79      0.83      1087\n",
      "weighted avg       0.93      0.94      0.93      1087\n",
      "\n"
     ]
    }
   ],
   "source": [
    "# first DL model\n",
    "input_layer = Input(shape = sequences_matrix.shape[1])\n",
    "\n",
    "x1 = layers.Dense(128, activation='relu')(input_layer)\n",
    "x1 = layers.Dense(64, activation='relu')(x1)\n",
    "\n",
    "out = layers.Dense(2)(x1)\n",
    "\n",
    "out = layers.Softmax()(out)\n",
    "\n",
    "model_dl1 = Model(inputs = input_layer, outputs = out)\n",
    "model_dl1.compile(optimizer= 'Adam', loss = 'binary_crossentropy', metrics = 'AUC')\n",
    "\n",
    "model_dl1.fit(sequences_matrix, Y_train_encoded, epochs = 20, validation_split=0.1, callbacks=EarlyStopping(patience=3, monitor='val_loss'))\n",
    "\n",
    "y_pred_dl1 = model_dl1.predict(test_sequences_matrix).argmax(axis = 1) \n",
    "\n",
    "print(classification_report(Y_test.flatten(),y_pred1_rf))\n",
    "\n"
   ]
  },
  {
   "cell_type": "markdown",
   "id": "0a672e2c",
   "metadata": {},
   "source": [
    "How we can see, simple DL model hasn't improve our result, let improve it, by adding recurential layers."
   ]
  },
  {
   "cell_type": "markdown",
   "id": "b2c71ee9",
   "metadata": {},
   "source": [
    "e) rnn networks"
   ]
  },
  {
   "cell_type": "code",
   "execution_count": 701,
   "id": "ab8c1701",
   "metadata": {},
   "outputs": [],
   "source": [
    "# our model definition\n",
    "def model_rnn(X_train,Y_train, units_rnn, embedd = 64, opt = 'adam', metrics = 'AUC', batch = 64, epochs = 30):\n",
    "    \n",
    "    '''\n",
    "    X_train = training data without labels, in matrix format, prepared earlier as a sequences_matrix,\n",
    "    Y_train = labels for training data as an array(None, 2),\n",
    "    units_rnn = list of units per layer, same units per layer are recommended\n",
    "    embedd = dimension of embedding, default 64\n",
    "    opt = optimizer as a string,  default = 'adam'\n",
    "    metric = metric to evaluate model results, default = 'auc'\n",
    "    batch = batch size, default 64, NOTE than batch size should be divided by 8\n",
    "    epochs = number of epochs, iteration of model, default = 30\n",
    "    \n",
    "    \n",
    "    max_words = number of words used in model, parameter defined in preprocessing stage,\n",
    "    max_len = maximal lenght of one record, number of words in one record, parameter defined in preprocessing stage,\n",
    "    \n",
    "    '''\n",
    "    \n",
    "    # model instance\n",
    "    model = models.Sequential()\n",
    "    \n",
    "    # input layer\n",
    "    model.add(\n",
    "        layers.InputLayer(\n",
    "                    name = 'intro', \n",
    "                    input_shape = max_len\n",
    "        )\n",
    "    )\n",
    "    \n",
    "    # text embedding\n",
    "    model.add(\n",
    "        layers.Embedding(\n",
    "            input_dim = max_words,\n",
    "            output_dim=embedd\n",
    "        )\n",
    "    )\n",
    "    \n",
    "    # model with LSTM layers, and dense as an output\n",
    "    for i, j in enumerate(units_rnn):\n",
    "        if i == len(units_rnn)-1 and i == 0:\n",
    "            model.add(\n",
    "                layers.LSTM(\n",
    "                    units = j, \n",
    "                    name = 'rnn' + str(i)\n",
    "                )\n",
    "            )\n",
    "        \n",
    "        elif i == len(units_rnn)-1:\n",
    "             model.add(\n",
    "                layers.LSTM(\n",
    "                    units = j, \n",
    "                    name = 'rnn' + str(i)\n",
    "                )\n",
    "            )\n",
    "        \n",
    "        \n",
    "        else:\n",
    "            model.add(\n",
    "                layers.LSTM(\n",
    "                    units = j, \n",
    "                    return_sequences = True,\n",
    "                    name = 'rnn' + str(i)\n",
    "                )\n",
    "            )\n",
    "            \n",
    "    model.add(\n",
    "        layers.Dense(\n",
    "            units=2,\n",
    "            name = 'out'\n",
    "            )\n",
    "        )  \n",
    "    \n",
    "    \n",
    "    model.add(layers.Softmax())\n",
    "    \n",
    "#     model.add(\n",
    "#         layers.Dense(\n",
    "#             units=1,\n",
    "#             activation=\"sigmoid\",\n",
    "#             name = 'out'\n",
    "#             )\n",
    "#         )            \n",
    "    \n",
    "    model.summary()\n",
    "    \n",
    "    \n",
    "    # model compile\n",
    "    model.compile(\n",
    "            loss = 'binary_crossentropy',\n",
    "            optimizer = opt,\n",
    "            metrics = metrics\n",
    "    )\n",
    "    \n",
    "    # model fit\n",
    "    model.fit(\n",
    "        x = X_train,\n",
    "        y = Y_train,\n",
    "        batch_size = batch,\n",
    "        epochs = epochs,\n",
    "        validation_split = 0.2,\n",
    "        callbacks = [EarlyStopping(\n",
    "                            monitor ='val_loss',\n",
    "                            patience = 5,\n",
    "                            min_delta = 0.01\n",
    "                            )]\n",
    "    )\n",
    "    \n",
    "    \n",
    "    return model    \n",
    "            \n",
    "    \n",
    "        "
   ]
  },
  {
   "cell_type": "code",
   "execution_count": 703,
   "id": "2110123f",
   "metadata": {},
   "outputs": [
    {
     "name": "stdout",
     "output_type": "stream",
     "text": [
      "Model: \"sequential_10\"\n",
      "_________________________________________________________________\n",
      "Layer (type)                 Output Shape              Param #   \n",
      "=================================================================\n",
      "embedding_10 (Embedding)     (None, 70, 64)            51200     \n",
      "_________________________________________________________________\n",
      "rnn0 (LSTM)                  (None, 64)                33024     \n",
      "_________________________________________________________________\n",
      "out (Dense)                  (None, 2)                 130       \n",
      "_________________________________________________________________\n",
      "softmax_6 (Softmax)          (None, 2)                 0         \n",
      "=================================================================\n",
      "Total params: 84,354\n",
      "Trainable params: 84,354\n",
      "Non-trainable params: 0\n",
      "_________________________________________________________________\n",
      "Epoch 1/30\n",
      "55/55 [==============================] - 36s 324ms/step - loss: 0.3352 - auc: 0.9381 - val_loss: 0.1541 - val_auc: 0.9860\n",
      "Epoch 2/30\n",
      "55/55 [==============================] - 28s 508ms/step - loss: 0.0683 - auc: 0.9963 - val_loss: 0.0840 - val_auc: 0.9957ss: \n",
      "Epoch 3/30\n",
      "55/55 [==============================] - 29s 540ms/step - loss: 0.0347 - auc: 0.9991 - val_loss: 0.0779 - val_auc: 0.99638s - loss: 0.0457 - au - ETA: 6s - - ETA: 1s - loss: 0.0358 - auc:\n",
      "Epoch 4/30\n",
      "55/55 [==============================] - 15s 271ms/step - loss: 0.0190 - auc: 0.9996 - val_loss: 0.0863 - val_auc: 0.9922s - loss: 0.0201 - auc: \n",
      "Epoch 5/30\n",
      "55/55 [==============================] - 22s 412ms/step - loss: 0.0111 - auc: 0.9999 - val_loss: 0.0869 - val_auc: 0.9907\n",
      "Epoch 6/30\n",
      "55/55 [==============================] - 34s 628ms/step - loss: 0.0095 - auc: 0.9999 - val_loss: 0.0965 - val_auc: 0.9900s: 0.010\n",
      "Epoch 7/30\n",
      "55/55 [==============================] - 16s 295ms/step - loss: 0.0062 - auc: 1.0000 - val_loss: 0.0942 - val_auc: 0.990065 - auc: 1. - ETA: 2s - loss: 0.0069 - auc:  - ETA: 1s - loss: 0.0065 - auc: 1.000 - ETA: 1s - loss: 0.0064  - ETA: 0s - loss: 0.0066 - auc: 1.000 - ETA: 0s - loss: 0.0065 - auc: 1.\n"
     ]
    }
   ],
   "source": [
    "model_rnn1 = model_rnn(sequences_matrix,Y_train_encoded,[64])"
   ]
  },
  {
   "cell_type": "code",
   "execution_count": 704,
   "id": "f19a8a66",
   "metadata": {},
   "outputs": [
    {
     "name": "stdout",
     "output_type": "stream",
     "text": [
      "Test set\n",
      "  Loss: 0.05\n",
      "  AUC: 1.00\n"
     ]
    }
   ],
   "source": [
    "# model evaluation results\n",
    "res = model_rnn1.evaluate(test_sequences_matrix,Y_test_encoded, verbose=0)\n",
    "print('Test set\\n  Loss: {:0.2f}\\n  AUC: {:0.2f}'.format(res[0],res[1]))"
   ]
  },
  {
   "cell_type": "code",
   "execution_count": 705,
   "id": "74a2330d",
   "metadata": {},
   "outputs": [
    {
     "name": "stdout",
     "output_type": "stream",
     "text": [
      "              precision    recall  f1-score   support\n",
      "\n",
      "           0       0.99      1.00      0.99       948\n",
      "           1       0.98      0.94      0.96       139\n",
      "\n",
      "    accuracy                           0.99      1087\n",
      "   macro avg       0.98      0.97      0.97      1087\n",
      "weighted avg       0.99      0.99      0.99      1087\n",
      "\n"
     ]
    }
   ],
   "source": [
    "# classification report\n",
    "y_pred = model_rnn1.predict(test_sequences_matrix).argmax(axis = 1)\n",
    "print(classification_report(Y_test, y_pred))"
   ]
  },
  {
   "cell_type": "code",
   "execution_count": 696,
   "id": "2e1572af",
   "metadata": {},
   "outputs": [
    {
     "data": {
      "text/plain": [
       "array([6.302459e-05], dtype=float32)"
      ]
     },
     "execution_count": 696,
     "metadata": {},
     "output_type": "execute_result"
    }
   ],
   "source": [
    "y_pred[1]"
   ]
  },
  {
   "cell_type": "code",
   "execution_count": null,
   "id": "ad43c473",
   "metadata": {},
   "outputs": [],
   "source": []
  },
  {
   "cell_type": "code",
   "execution_count": null,
   "id": "c96c038f",
   "metadata": {},
   "outputs": [],
   "source": []
  },
  {
   "cell_type": "code",
   "execution_count": 624,
   "id": "7db49eb6",
   "metadata": {},
   "outputs": [
    {
     "data": {
      "text/plain": [
       "(4362, 70)"
      ]
     },
     "execution_count": 624,
     "metadata": {},
     "output_type": "execute_result"
    }
   ],
   "source": [
    "sequences_matrix.shape"
   ]
  },
  {
   "cell_type": "code",
   "execution_count": null,
   "id": "5f928564",
   "metadata": {},
   "outputs": [],
   "source": []
  },
  {
   "cell_type": "code",
   "execution_count": 700,
   "id": "3fee0f4f",
   "metadata": {},
   "outputs": [],
   "source": [
    "# moze jakis hyperopt na kerasie?, albo zwykla petla i daj slowniki w srodku w liscie, aby po nich chodzil jako parametry, moze tak sie da"
   ]
  },
  {
   "cell_type": "code",
   "execution_count": null,
   "id": "b7ecb0c0",
   "metadata": {},
   "outputs": [],
   "source": [
    "#poszukaj sposobu na unbalanced in textowych danych, wez wykorzystaj transfer learning i kilka roznych modeli nie tylko DL"
   ]
  }
 ],
 "metadata": {
  "kernelspec": {
   "display_name": "Python 3",
   "language": "python",
   "name": "python3"
  },
  "language_info": {
   "codemirror_mode": {
    "name": "ipython",
    "version": 3
   },
   "file_extension": ".py",
   "mimetype": "text/x-python",
   "name": "python",
   "nbconvert_exporter": "python",
   "pygments_lexer": "ipython3",
   "version": "3.8.8"
  }
 },
 "nbformat": 4,
 "nbformat_minor": 5
}
